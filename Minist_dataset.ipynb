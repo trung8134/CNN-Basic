{
 "cells": [
  {
   "cell_type": "code",
   "execution_count": 1,
   "id": "8688eb75-d91b-4ae9-b805-5c5b96e2aed0",
   "metadata": {},
   "outputs": [],
   "source": [
    "import tensorflow as tf\n",
    "from tensorflow import keras\n",
    "import matplotlib.pyplot as plt\n",
    "%matplotlib inline\n",
    "import numpy as np"
   ]
  },
  {
   "cell_type": "code",
   "execution_count": 2,
   "id": "61e31f8d-8547-44d0-8445-16ab9348c752",
   "metadata": {},
   "outputs": [],
   "source": [
    "# load data\n",
    "(X_train, y_train) , (X_test, y_test) = keras.datasets.mnist.load_data()"
   ]
  },
  {
   "cell_type": "code",
   "execution_count": 3,
   "id": "40bf82b9-1b43-48bf-8660-f5361085876a",
   "metadata": {},
   "outputs": [
    {
     "data": {
      "text/plain": [
       "<matplotlib.image.AxesImage at 0x1e652fe3790>"
      ]
     },
     "execution_count": 3,
     "metadata": {},
     "output_type": "execute_result"
    },
    {
     "data": {
      "image/png": "[encoded data removed]",
      "text/plain": [
       "<Figure size 640x480 with 1 Axes>"
      ]
     },
     "metadata": {},
     "output_type": "display_data"
    }
   ],
   "source": [
    "plt.imshow(X_train[0])"
   ]
  },
  {
   "cell_type": "code",
   "execution_count": 4,
   "id": "4a871a9f-5104-4111-bd2f-48afc90f2097",
   "metadata": {},
   "outputs": [
    {
     "data": {
      "text/plain": [
       "((60000, 28, 28), (10000, 28, 28))"
      ]
     },
     "execution_count": 4,
     "metadata": {},
     "output_type": "execute_result"
    }
   ],
   "source": [
    "# có 60k ảnh để train, 10k ảnh để test\n",
    "X_train.shape, X_test.shape"
   ]
  },
  {
   "cell_type": "code",
   "execution_count": 5,
   "id": "274471ff-9c3d-49cc-937a-96a6f4093667",
   "metadata": {},
   "outputs": [
    {
     "data": {
      "text/plain": [
       "(60000, 28, 28, 1)"
      ]
     },
     "execution_count": 5,
     "metadata": {},
     "output_type": "execute_result"
    }
   ],
   "source": [
    "# Flatten ảnh\n",
    "X_train = X_train.reshape(60000, 28, 28, 1)\n",
    "X_test = X_test.reshape(10000, 28, 28, 1)\n",
    "\n",
    "X_train.shape"
   ]
  },
  {
   "cell_type": "code",
   "execution_count": 6,
   "id": "b449f891-59e7-42c6-b595-69928f355225",
   "metadata": {},
   "outputs": [
    {
     "data": {
      "text/plain": [
       "(array([5, 0, 4, 1, 9], dtype=uint8), array([7, 2, 1, 0, 4], dtype=uint8))"
      ]
     },
     "execution_count": 6,
     "metadata": {},
     "output_type": "execute_result"
    }
   ],
   "source": [
    "y_train[:5], y_test[:5]"
   ]
  },
  {
   "cell_type": "code",
   "execution_count": 7,
   "id": "4214a401-30d2-43cc-83e3-7de56550febc",
   "metadata": {},
   "outputs": [
    {
     "name": "stdout",
     "output_type": "stream",
     "text": [
      "Model: \"sequential\"\n",
      "_________________________________________________________________\n",
      " Layer (type)                Output Shape              Param #   \n",
      "=================================================================\n",
      " conv2d (Conv2D)             (None, 28, 28, 64)        640       \n",
      "                                                                 \n",
      " max_pooling2d (MaxPooling2D  (None, 14, 14, 64)       0         \n",
      " )                                                               \n",
      "                                                                 \n",
      " conv2d_1 (Conv2D)           (None, 14, 14, 64)        36928     \n",
      "                                                                 \n",
      " max_pooling2d_1 (MaxPooling  (None, 7, 7, 64)         0         \n",
      " 2D)                                                             \n",
      "                                                                 \n",
      " flatten (Flatten)           (None, 3136)              0         \n",
      "                                                                 \n",
      " dense (Dense)               (None, 64)                200768    \n",
      "                                                                 \n",
      " dense_1 (Dense)             (None, 10)                650       \n",
      "                                                                 \n",
      "=================================================================\n",
      "Total params: 238,986\n",
      "Trainable params: 238,986\n",
      "Non-trainable params: 0\n",
      "_________________________________________________________________\n"
     ]
    }
   ],
   "source": [
    "# build model\n",
    "\n",
    "model = keras.Sequential([\n",
    "    #cnn\n",
    "    keras.layers.Conv2D(64, kernel_size=(3, 3), activation='relu', input_shape = (28, 28, 1), padding='same'),\n",
    "    keras.layers.MaxPooling2D(pool_size=(2, 2), strides=2),\n",
    "    keras.layers.Conv2D(64, kernel_size=(3, 3), activation='relu', padding='same'),\n",
    "    keras.layers.MaxPooling2D(pool_size=(2, 2), strides=2),\n",
    "    \n",
    "    #Dense\n",
    "    keras.layers.Flatten(),\n",
    "    keras.layers.Dense(64, activation='relu'),\n",
    "    keras.layers.Dense(10, activation='softmax')\n",
    "])\n",
    "                        \n",
    "model.compile(\n",
    "    optimizer='adam', # hàm tối ưu\n",
    "    loss='sparse_categorical_crossentropy', # dùng với y_train là mảng 1 chiều\n",
    "    metrics=['accuracy'])\n",
    "\n",
    "model.summary()                      "
   ]
  },
  {
   "cell_type": "code",
   "execution_count": 9,
   "id": "228dbdeb",
   "metadata": {},
   "outputs": [
    {
     "name": "stdout",
     "output_type": "stream",
     "text": [
      "Epoch 1/10\n",
      "1875/1875 [==============================] - 126s 67ms/step - loss: 0.0669 - accuracy: 0.9800\n",
      "Epoch 2/10\n",
      "1875/1875 [==============================] - 137s 73ms/step - loss: 0.0500 - accuracy: 0.9851\n",
      "Epoch 3/10\n",
      "1875/1875 [==============================] - 137s 73ms/step - loss: 0.0410 - accuracy: 0.9875\n",
      "Epoch 4/10\n",
      "1875/1875 [==============================] - 127s 68ms/step - loss: 0.0346 - accuracy: 0.9895\n",
      "Epoch 5/10\n",
      "1875/1875 [==============================] - 128s 69ms/step - loss: 0.0306 - accuracy: 0.9906\n",
      "Epoch 6/10\n",
      "1875/1875 [==============================] - 132s 71ms/step - loss: 0.0242 - accuracy: 0.9929\n",
      "Epoch 7/10\n",
      "1875/1875 [==============================] - 132s 70ms/step - loss: 0.0236 - accuracy: 0.9927\n",
      "Epoch 8/10\n",
      "1875/1875 [==============================] - 155s 83ms/step - loss: 0.0210 - accuracy: 0.9936\n",
      "Epoch 9/10\n",
      "1875/1875 [==============================] - 190s 101ms/step - loss: 0.0183 - accuracy: 0.9947\n",
      "Epoch 10/10\n",
      "1875/1875 [==============================] - 139s 74ms/step - loss: 0.0165 - accuracy: 0.9951\n"
     ]
    },
    {
     "data": {
      "text/plain": [
       "<keras.callbacks.History at 0x2598160aca0>"
      ]
     },
     "execution_count": 9,
     "metadata": {},
     "output_type": "execute_result"
    }
   ],
   "source": [
    "model.fit(X_train, y_train, epochs=10)"
   ]
  },
  {
   "cell_type": "code",
   "execution_count": 10,
   "id": "f7fa9173",
   "metadata": {},
   "outputs": [
    {
     "name": "stdout",
     "output_type": "stream",
     "text": [
      "313/313 [==============================] - 5s 14ms/step - loss: 0.0769 - accuracy: 0.9857\n"
     ]
    },
    {
     "data": {
      "text/plain": [
       "[0.0768698900938034, 0.9857000112533569]"
      ]
     },
     "execution_count": 10,
     "metadata": {},
     "output_type": "execute_result"
    }
   ],
   "source": [
    "model.evaluate(X_test, y_test)"
   ]
  },
  {
   "cell_type": "code",
   "execution_count": 19,
   "id": "dce10d31",
   "metadata": {},
   "outputs": [
    {
     "name": "stdout",
     "output_type": "stream",
     "text": [
      "313/313 [==============================] - 5s 15ms/step\n"
     ]
    }
   ],
   "source": [
    "y_pred = model.predict(X_test)"
   ]
  },
  {
   "cell_type": "code",
   "execution_count": 20,
   "id": "71c06236",
   "metadata": {},
   "outputs": [
    {
     "data": {
      "text/plain": [
       "array([[3.48513479e-26, 2.15163436e-15, 6.16327983e-19, 2.46086312e-16,\n",
       "        1.16861510e-14, 1.48796190e-23, 1.30754489e-28, 1.00000000e+00,\n",
       "        4.88408379e-18, 1.16679071e-11],\n",
       "       [7.89048083e-18, 5.09585973e-17, 1.00000000e+00, 1.36420595e-17,\n",
       "        1.42444225e-27, 1.89879232e-19, 8.65095615e-21, 2.60426446e-21,\n",
       "        2.92446463e-17, 4.44715829e-27],\n",
       "       [2.33422614e-20, 1.00000000e+00, 6.27689198e-13, 2.20909532e-12,\n",
       "        2.04968097e-18, 5.43051848e-17, 9.54673285e-11, 1.43612837e-13,\n",
       "        3.25254147e-13, 2.83516613e-12],\n",
       "       [1.00000000e+00, 2.05077817e-12, 8.36292900e-17, 2.02120615e-13,\n",
       "        4.47562151e-16, 3.29179291e-16, 1.15160458e-13, 2.98570509e-11,\n",
       "        2.54018594e-12, 2.14352381e-15],\n",
       "       [3.11302083e-22, 1.02377564e-17, 2.29880454e-16, 6.13482828e-26,\n",
       "        9.99999881e-01, 1.57177544e-22, 3.36776489e-21, 3.89020436e-18,\n",
       "        2.94842746e-15, 1.62669537e-07]], dtype=float32)"
      ]
     },
     "execution_count": 20,
     "metadata": {},
     "output_type": "execute_result"
    }
   ],
   "source": [
    "y_pred[:5]"
   ]
  },
  {
   "cell_type": "code",
   "execution_count": 21,
   "id": "9db2ae22",
   "metadata": {},
   "outputs": [],
   "source": [
    "# đưa y_pred về mảng 1 chiều \n",
    "# trả y về vị trí có giá trị dự đoán lớn nhất(chính là số cần dự đoán)\n",
    "y_pred = [np.argmax(i) for i in y_pred]"
   ]
  },
  {
   "cell_type": "code",
   "execution_count": 23,
   "id": "86161b65",
   "metadata": {},
   "outputs": [
    {
     "data": {
      "text/plain": [
       "[7, 2, 1, 0, 4, 1, 4, 9, 5, 9]"
      ]
     },
     "execution_count": 23,
     "metadata": {},
     "output_type": "execute_result"
    }
   ],
   "source": [
    "y_pred[:10]"
   ]
  },
  {
   "cell_type": "code",
   "execution_count": 24,
   "id": "dd7027a2",
   "metadata": {},
   "outputs": [
    {
     "data": {
      "text/plain": [
       "array([7, 2, 1, 0, 4, 1, 4, 9, 5, 9], dtype=uint8)"
      ]
     },
     "execution_count": 24,
     "metadata": {},
     "output_type": "execute_result"
    }
   ],
   "source": [
    "y_test[:10]"
   ]
  },
  {
   "cell_type": "code",
   "execution_count": null,
   "id": "6708bab4",
   "metadata": {},
   "outputs": [],
   "source": []
  }
 ],
 "metadata": {
  "kernelspec": {
   "display_name": "base",
   "language": "python",
   "name": "python3"
  },
  "language_info": {
   "codemirror_mode": {
    "name": "ipython",
    "version": 3
   },
   "file_extension": ".py",
   "mimetype": "text/x-python",
   "name": "python",
   "nbconvert_exporter": "python",
   "pygments_lexer": "ipython3",
   "version": "3.9.13"
  },
  "vscode": {
   "interpreter": {
    "hash": "d7b621c3913d7f6b3018ac723d5262173a709ecf77a9c35ddf3bc69671ad8818"
   }
  }
 },
 "nbformat": 4,
 "nbformat_minor": 5
}
